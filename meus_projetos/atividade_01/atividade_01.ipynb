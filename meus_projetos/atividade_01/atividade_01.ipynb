{
  "cells": [
    {
      "cell_type": "markdown",
      "metadata": {
        "colab_type": "text",
        "id": "view-in-github"
      },
      "source": [
        "<a href=\"https://colab.research.google.com/github/julioalves01967302/atividade-0.1/blob/main/atividade_01.ipynb\" target=\"_parent\"><img src=\"https://colab.research.google.com/assets/colab-badge.svg\" alt=\"Open In Colab\"/></a>"
      ]
    },
    {
      "cell_type": "markdown",
      "metadata": {
        "id": "DhAx9Cr_ABWi"
      },
      "source": [
        "questão 01"
      ]
    },
    {
      "cell_type": "code",
      "execution_count": null,
      "metadata": {
        "id": "3CA6oJfa6FVG"
      },
      "outputs": [],
      "source": [
        "mensagem = \"Alunos - PLP Unifavip 2022.2\""
      ]
    },
    {
      "cell_type": "code",
      "execution_count": null,
      "metadata": {
        "colab": {
          "base_uri": "https://localhost:8080/"
        },
        "id": "0NhtAJjA7XMf",
        "outputId": "90bafeb6-8450-428b-ab04-7a4b6e23c5a3"
      },
      "outputs": [
        {
          "name": "stdout",
          "output_type": "stream",
          "text": [
            "Alunos - PLP Unifavip 2022.2\n"
          ]
        }
      ],
      "source": [
        "print (mensagem)"
      ]
    },
    {
      "cell_type": "markdown",
      "metadata": {
        "id": "N1NgAQGV_5ro"
      },
      "source": [
        "questão 02"
      ]
    },
    {
      "cell_type": "code",
      "execution_count": null,
      "metadata": {
        "colab": {
          "base_uri": "https://localhost:8080/"
        },
        "id": "asaginNC8Jfy",
        "outputId": "d2b5bf83-a94e-47e0-e6e9-c91c22cf91db"
      },
      "outputs": [
        {
          "name": "stdout",
          "output_type": "stream",
          "text": [
            "O número informado foi?:5\n"
          ]
        }
      ],
      "source": [
        "número =input(\"O número informado foi?:\")"
      ]
    },
    {
      "cell_type": "code",
      "execution_count": null,
      "metadata": {
        "colab": {
          "base_uri": "https://localhost:8080/"
        },
        "id": "B4oRxeJf8_Re",
        "outputId": "645c91b9-afa6-41d9-b53f-e0127c2ae155"
      },
      "outputs": [
        {
          "name": "stdout",
          "output_type": "stream",
          "text": [
            "5\n"
          ]
        }
      ],
      "source": [
        "print(número)"
      ]
    },
    {
      "cell_type": "markdown",
      "metadata": {
        "id": "RqZruS91CaQU"
      },
      "source": [
        "questão 03"
      ]
    },
    {
      "cell_type": "code",
      "execution_count": null,
      "metadata": {
        "colab": {
          "base_uri": "https://localhost:8080/"
        },
        "id": "4t12lSx2AQdR",
        "outputId": "b0646e97-332f-43eb-e6e9-da20c41bb52a"
      },
      "outputs": [
        {
          "name": "stdout",
          "output_type": "stream",
          "text": [
            "digite o número 01 : 222\n"
          ]
        }
      ],
      "source": [
        "num01 =float(input(\"digite o número 01 : \"))\n"
      ]
    },
    {
      "cell_type": "code",
      "execution_count": null,
      "metadata": {
        "colab": {
          "base_uri": "https://localhost:8080/"
        },
        "id": "fAeBThP3BRKI",
        "outputId": "03979c51-f6a6-4716-995d-5a6d02f3c256"
      },
      "outputs": [
        {
          "name": "stdout",
          "output_type": "stream",
          "text": [
            "digite o número 02 : 25\n"
          ]
        }
      ],
      "source": [
        "num02 = float(input(\"digite o número 02 :\"))"
      ]
    },
    {
      "cell_type": "code",
      "execution_count": null,
      "metadata": {
        "colab": {
          "base_uri": "https://localhost:8080/"
        },
        "id": "dC__SCFdBotr",
        "outputId": "7912f1e3-e567-44c0-aa47-bbff654c4e25"
      },
      "outputs": [
        {
          "name": "stdout",
          "output_type": "stream",
          "text": [
            "soma dos dos valores 247.0\n"
          ]
        }
      ],
      "source": [
        "soma = num01 + num02\n",
        "print (\"soma dos dos valores\" ,soma )"
      ]
    },
    {
      "cell_type": "markdown",
      "metadata": {
        "id": "xPmKC6pqDOx-"
      },
      "source": [
        "questão 04"
      ]
    },
    {
      "cell_type": "code",
      "execution_count": null,
      "metadata": {
        "colab": {
          "base_uri": "https://localhost:8080/"
        },
        "id": "-Qsr2RXADSDf",
        "outputId": "be644355-59e7-4c03-9cfd-0b83f390a4a6"
      },
      "outputs": [
        {
          "name": "stdout",
          "output_type": "stream",
          "text": [
            "digite a nota 01 : 06\n"
          ]
        }
      ],
      "source": [
        "nota01 = float(input(\"digite a nota 01 : \" ))"
      ]
    },
    {
      "cell_type": "code",
      "execution_count": null,
      "metadata": {
        "colab": {
          "base_uri": "https://localhost:8080/"
        },
        "id": "PGFpIyXGEqkd",
        "outputId": "4f872dba-90af-4ffd-e064-792161cddbc3"
      },
      "outputs": [
        {
          "name": "stdout",
          "output_type": "stream",
          "text": [
            "digite a nota 02 : 06\n"
          ]
        }
      ],
      "source": [
        "nota02 = float(input(\"digite a nota 02 : \" ))"
      ]
    },
    {
      "cell_type": "code",
      "execution_count": null,
      "metadata": {
        "colab": {
          "base_uri": "https://localhost:8080/"
        },
        "id": "XL8IEzlhEyJU",
        "outputId": "5613855f-e273-40c9-fedc-48809cf78c91"
      },
      "outputs": [
        {
          "name": "stdout",
          "output_type": "stream",
          "text": [
            "digite a nota 03 : 07\n"
          ]
        }
      ],
      "source": [
        "nota03 = float(input(\"digite a nota 03 : \" ))"
      ]
    },
    {
      "cell_type": "code",
      "execution_count": null,
      "metadata": {
        "colab": {
          "base_uri": "https://localhost:8080/"
        },
        "id": "TJEgcqiKFMSI",
        "outputId": "aff2a1d7-9ec8-4a32-8d20-405d7a4ff049"
      },
      "outputs": [
        {
          "name": "stdout",
          "output_type": "stream",
          "text": [
            "digite a nota 04 : 08\n"
          ]
        }
      ],
      "source": [
        "nota04 = float(input(\"digite a nota 04 : \" ))"
      ]
    },
    {
      "cell_type": "code",
      "execution_count": null,
      "metadata": {
        "id": "OlZK-F0tF1I8"
      },
      "outputs": [],
      "source": [
        "média=(nota01+ nota02+ nota03+ nota04) / 4"
      ]
    },
    {
      "cell_type": "code",
      "execution_count": null,
      "metadata": {
        "colab": {
          "base_uri": "https://localhost:8080/"
        },
        "id": "biUaNw5BF8Vs",
        "outputId": "ac66c05c-eaa5-467d-dc0a-6c1a54fe3c2e"
      },
      "outputs": [
        {
          "name": "stdout",
          "output_type": "stream",
          "text": [
            "média das notas 6.75\n"
          ]
        }
      ],
      "source": [
        "print(\"média das notas\",média)"
      ]
    },
    {
      "cell_type": "markdown",
      "metadata": {
        "id": "zhqvcgkKHF-a"
      },
      "source": [
        "questão 05"
      ]
    },
    {
      "cell_type": "code",
      "execution_count": null,
      "metadata": {
        "colab": {
          "base_uri": "https://localhost:8080/"
        },
        "id": "GDELN3bxHKKz",
        "outputId": "35761b10-0704-4be2-87a5-a98e71fba7f9"
      },
      "outputs": [
        {
          "name": "stdout",
          "output_type": "stream",
          "text": [
            "valor em metros : 2\n"
          ]
        }
      ],
      "source": [
        "metro = float(input(\"valor em metros : \"))"
      ]
    },
    {
      "cell_type": "code",
      "execution_count": null,
      "metadata": {
        "id": "PuvpheEuKRCF"
      },
      "outputs": [],
      "source": [
        "centimetros = metro * 100"
      ]
    },
    {
      "cell_type": "code",
      "execution_count": null,
      "metadata": {
        "colab": {
          "base_uri": "https://localhost:8080/"
        },
        "id": "fBbmmCH4Kczx",
        "outputId": "a9cea732-cf81-44ad-c04b-c1def7763d8c"
      },
      "outputs": [
        {
          "name": "stdout",
          "output_type": "stream",
          "text": [
            "2.0 metros equivale a  200.0 centimentros\n"
          ]
        }
      ],
      "source": [
        "print( metro,\"metros equivale a \",centimetros,\"centimentros\" )"
      ]
    },
    {
      "cell_type": "markdown",
      "metadata": {
        "id": "YqG8i073LZQ1"
      },
      "source": [
        "questão 06"
      ]
    },
    {
      "cell_type": "code",
      "execution_count": null,
      "metadata": {
        "colab": {
          "base_uri": "https://localhost:8080/"
        },
        "id": "_t7R-tOQMFfc",
        "outputId": "9f3e7317-82e3-430c-95e6-c0fb21682da8"
      },
      "outputs": [
        {
          "name": "stdout",
          "output_type": "stream",
          "text": [
            "valor do raio 6\n"
          ]
        }
      ],
      "source": [
        "raio= float(input(\"valor do raio \"))"
      ]
    },
    {
      "cell_type": "code",
      "execution_count": null,
      "metadata": {
        "id": "eCx-S4LpN7wP"
      },
      "outputs": [],
      "source": [
        "import math"
      ]
    },
    {
      "cell_type": "code",
      "execution_count": null,
      "metadata": {
        "id": "8WuPsMZjOC2y"
      },
      "outputs": [],
      "source": [
        "area = math.pi * (raio ** 2)\n"
      ]
    },
    {
      "cell_type": "code",
      "execution_count": null,
      "metadata": {
        "colab": {
          "base_uri": "https://localhost:8080/"
        },
        "id": "CkIKB0-QOQQM",
        "outputId": "ab1c5e27-525a-4a3a-91a9-30f0b2db8bb3"
      },
      "outputs": [
        {
          "name": "stdout",
          "output_type": "stream",
          "text": [
            "a area do circulo do  raio   6.0 é 9503.317777109125\n"
          ]
        }
      ],
      "source": [
        "print (\"a area do circulo do  raio  \",raio ,\"é\",area )"
      ]
    },
    {
      "cell_type": "markdown",
      "metadata": {
        "id": "ACV5LySxPM5m"
      },
      "source": [
        "questão 07"
      ]
    },
    {
      "cell_type": "code",
      "execution_count": null,
      "metadata": {
        "colab": {
          "base_uri": "https://localhost:8080/"
        },
        "id": "bamwbAuiPRiL",
        "outputId": "27b482a2-be20-486d-adfc-fd6ca56dc683"
      },
      "outputs": [
        {
          "name": "stdout",
          "output_type": "stream",
          "text": [
            "digite o valor do lado do quadrado : 8\n"
          ]
        }
      ],
      "source": [
        "lado=float(input(\"digite o valor do lado do quadrado : \"))\n",
        "area= lado **2\n",
        "dobro = area  * 2\n",
        "print(\"a area do quadrado é\", area)\n",
        "print(\"o dobro da area é\", dobro)"
      ]
    },
    {
      "cell_type": "markdown",
      "metadata": {
        "id": "-jlVh_h1WIEi"
      },
      "source": [
        "questão 08"
      ]
    },
    {
      "cell_type": "code",
      "execution_count": null,
      "metadata": {
        "colab": {
          "base_uri": "https://localhost:8080/"
        },
        "id": "Bgy0M3OZWu8j",
        "outputId": "210afbdf-7078-42c6-9c8c-3b8f505d839f"
      },
      "outputs": [
        {
          "name": "stdout",
          "output_type": "stream",
          "text": [
            "valor das hrs trabalhadas é :60\n",
            "digite os dias trabalhados no mês : 27\n",
            "o valor do salario é : 1620.0\n"
          ]
        }
      ],
      "source": [
        "valor_hora =float(input(\"valor das hrs trabalhadas é :\"))\n",
        "horas_trabalhadas=float(input(\"digite os dias trabalhados no mês : \"))\n",
        "salario=valor_hora*horas_trabalhadas\n",
        "print(\"o valor do salario é :\", salario)"
      ]
    },
    {
      "cell_type": "markdown",
      "metadata": {
        "id": "01ABbXAnaxOl"
      },
      "source": [
        "questão 09"
      ]
    },
    {
      "cell_type": "code",
      "execution_count": null,
      "metadata": {
        "colab": {
          "base_uri": "https://localhost:8080/"
        },
        "id": "xrfM52Zoa2Xt",
        "outputId": "fe31ff1a-11fe-4663-9cb2-5d50a10dee23"
      },
      "outputs": [
        {
          "name": "stdout",
          "output_type": "stream",
          "text": [
            "valor do fahrenheit é; 22\n"
          ]
        }
      ],
      "source": [
        "fahrenheit=float(input(\"valor do fahrenheit é; \"))"
      ]
    },
    {
      "cell_type": "code",
      "execution_count": null,
      "metadata": {
        "id": "LLHSqtRHbdPZ"
      },
      "outputs": [],
      "source": [
        "celsius = 5* ((fahrenheit - 32) / 9)"
      ]
    },
    {
      "cell_type": "code",
      "execution_count": null,
      "metadata": {
        "colab": {
          "base_uri": "https://localhost:8080/"
        },
        "id": "-3DYjxysb2yI",
        "outputId": "e413f4e6-22e7-4398-ad2c-b4f8860e546a"
      },
      "outputs": [
        {
          "name": "stdout",
          "output_type": "stream",
          "text": [
            "22.0°F equivale a -5.56°C\n"
          ]
        }
      ],
      "source": [
        "print(f\"{fahrenheit}°F equivale a {celsius:.2f}°C\")"
      ]
    },
    {
      "cell_type": "markdown",
      "metadata": {
        "id": "Jxx9zEYjcmk3"
      },
      "source": [
        "quastão 10"
      ]
    },
    {
      "cell_type": "code",
      "execution_count": null,
      "metadata": {
        "colab": {
          "base_uri": "https://localhost:8080/"
        },
        "id": "GpTm624VdY4s",
        "outputId": "b4bcd44c-a2ca-4bbf-9cc3-d88696681b65"
      },
      "outputs": [
        {
          "name": "stdout",
          "output_type": "stream",
          "text": [
            "a temperatura em graus celsius é: 30\n"
          ]
        }
      ],
      "source": [
        "celsius = float(input(\"a temperatura em graus celsius é: \"))"
      ]
    },
    {
      "cell_type": "code",
      "execution_count": null,
      "metadata": {
        "id": "agciPlwNdzjy"
      },
      "outputs": [],
      "source": [
        "fahrenheit = (celsius * 9/5)+ 32"
      ]
    },
    {
      "cell_type": "code",
      "execution_count": null,
      "metadata": {
        "colab": {
          "base_uri": "https://localhost:8080/"
        },
        "id": "EWeXvOlSneXC",
        "outputId": "baf89c0e-0041-4c3b-8ce8-713d36a8b73f"
      },
      "outputs": [
        {
          "name": "stdout",
          "output_type": "stream",
          "text": [
            "30.0°C equivale a 86.00°F \n"
          ]
        }
      ],
      "source": [
        "print(f\"{celsius}°C equivale a {fahrenheit:.2f}°F \")"
      ]
    },
    {
      "cell_type": "markdown",
      "metadata": {
        "id": "AqwLQ93cjrX0"
      },
      "source": [
        "questão 11) Faça um Programa que peça 2 números inteiros e um número real. Calcule e mostre:\n",
        "\n",
        "a-o produto do dobro do primeiro com metade do segundo.\n",
        "\n",
        "b-a soma do triplo do primeiro com o terceiro.\n",
        "\n",
        "c-o terceiro elevado ao cubo.\n"
      ]
    },
    {
      "cell_type": "code",
      "execution_count": null,
      "metadata": {
        "colab": {
          "base_uri": "https://localhost:8080/"
        },
        "id": "GG-z_5lRkEIu",
        "outputId": "8d7b23aa-bc7c-403f-e283-efb4b5eb6f7c"
      },
      "outputs": [
        {
          "name": "stdout",
          "output_type": "stream",
          "text": [
            "numero inteiro : 3\n"
          ]
        }
      ],
      "source": [
        "num01= int(input(\"numero inteiro : \"))\n"
      ]
    },
    {
      "cell_type": "code",
      "execution_count": null,
      "metadata": {
        "colab": {
          "base_uri": "https://localhost:8080/"
        },
        "id": "VFQ8PW-jkdw2",
        "outputId": "ff244c74-3f3e-405e-d428-2bd39b8b15b0"
      },
      "outputs": [
        {
          "name": "stdout",
          "output_type": "stream",
          "text": [
            "numero inteiro : 4\n"
          ]
        }
      ],
      "source": [
        "num02= int(input(\"numero inteiro : \"))\n"
      ]
    },
    {
      "cell_type": "code",
      "execution_count": null,
      "metadata": {
        "colab": {
          "base_uri": "https://localhost:8080/"
        },
        "id": "YGXFj8hvki0P",
        "outputId": "c805e55a-27cc-4b38-fb09-316376eecb70"
      },
      "outputs": [
        {
          "name": "stdout",
          "output_type": "stream",
          "text": [
            "numero real : 5\n"
          ]
        }
      ],
      "source": [
        "num03=float(input(\"numero real : \"))"
      ]
    },
    {
      "cell_type": "code",
      "execution_count": null,
      "metadata": {
        "id": "aiHgLt9XlgGO"
      },
      "outputs": [],
      "source": [
        "resultaado_01=(2*num01) + (num02/2)"
      ]
    },
    {
      "cell_type": "code",
      "execution_count": null,
      "metadata": {
        "id": "cD9-WVRyl3LN"
      },
      "outputs": [],
      "source": [
        "resultado_02=(3*num01) + num03"
      ]
    },
    {
      "cell_type": "code",
      "execution_count": null,
      "metadata": {
        "id": "RbfOKuzCmZ6G"
      },
      "outputs": [],
      "source": [
        "resultado_03= num03**3"
      ]
    },
    {
      "cell_type": "code",
      "execution_count": null,
      "metadata": {
        "colab": {
          "base_uri": "https://localhost:8080/"
        },
        "id": "SPA538qvm07W",
        "outputId": "4c7323e5-6592-4765-aea1-8f5b6073e430"
      },
      "outputs": [
        {
          "name": "stdout",
          "output_type": "stream",
          "text": [
            "dobro do primeiro com metade do segundo é:  8.0\n",
            "a soma do triplo do primeiro com o terceiro é :  14.0\n",
            "o terceiro elevado ao cubo é :  125.0\n"
          ]
        }
      ],
      "source": [
        "print(\"dobro do primeiro com metade do segundo é: \"  , resultaado_01)\n",
        "print(\"a soma do triplo do primeiro com o terceiro é : \" , resultado_02)\n",
        "print(\"o terceiro elevado ao cubo é : \" , resultado_03)"
      ]
    },
    {
      "cell_type": "markdown",
      "metadata": {
        "id": "bJU-upKqpD5H"
      },
      "source": [
        "questão 12) Tendo como dados de entrada a altura de uma pessoa, construa um programa que calcule seu peso ideal, usando a seguinte fórmula: (72.7*altura) - 58\n"
      ]
    },
    {
      "cell_type": "code",
      "execution_count": null,
      "metadata": {
        "colab": {
          "base_uri": "https://localhost:8080/"
        },
        "id": "Pz6sVUzVpIC3",
        "outputId": "835d6c75-8fc7-476f-a74c-7baa49266178"
      },
      "outputs": [
        {
          "name": "stdout",
          "output_type": "stream",
          "text": [
            "Digite a sua altura  : 1.65\n",
            "O peso ideal para uma pessoa com 1.65m de altura é: 61.95 kg\n"
          ]
        }
      ],
      "source": [
        "\n",
        "\n",
        "\n",
        "altura = float(input(\"Digite a sua altura  : \"))\n",
        "\n",
        "peso_ideal = (72.7 * altura) - 58\n",
        "\n",
        "print(f\"O peso ideal para uma pessoa com {altura}m de altura é: {peso_ideal:.2f} kg\")\n"
      ]
    },
    {
      "cell_type": "markdown",
      "metadata": {
        "id": "pGxH4xMOs3nJ"
      },
      "source": [
        "questão 13) Tendo como dado de entrada a altura (h) de uma pessoa, construa um algoritmo que calcule seu peso ideal, utilizando as seguintes fórmulas:\n",
        "Para homens: (72.7*h) - 58\n",
        "Para mulheres: (62.1*h) - 44.7\n"
      ]
    },
    {
      "cell_type": "code",
      "execution_count": null,
      "metadata": {
        "colab": {
          "base_uri": "https://localhost:8080/"
        },
        "id": "pEPqI2vWs-y_",
        "outputId": "5e399612-24fe-480b-e7f1-235b0419753e"
      },
      "outputs": [
        {
          "name": "stdout",
          "output_type": "stream",
          "text": [
            "qual sua altura : 1.55\n",
            "sexo (M para masculino / F para feminino : m\n",
            "o peso ideal para um homem com 1.55m é 54.69 kg\n"
          ]
        }
      ],
      "source": [
        "Altura_em_metros =float(input(\"qual sua altura : \"))\n",
        "sexo=input(\"sexo (M para masculino / F para feminino : \").strip().upper()\n",
        "if sexo==\"M\":\n",
        "  peso_ideal = (72.7 * Altura_em_metros) - 58\n",
        "  print(f\"o peso ideal para um homem com {Altura_em_metros}m é {peso_ideal:.2f} kg\")\n",
        "elif sexo==\"F\":\n",
        "   peso_ideal_femi = (62.1 * Altura_em_metros) - 44.7\n",
        "   print(f\"o peso ideal para mulher com {Altura_em_metros}m é {peso_ideal_femi:.2f} kg\")"
      ]
    },
    {
      "cell_type": "markdown",
      "metadata": {
        "id": "yGn2ywAs6bCd"
      },
      "source": [
        "questão 14"
      ]
    },
    {
      "cell_type": "code",
      "execution_count": null,
      "metadata": {
        "colab": {
          "base_uri": "https://localhost:8080/"
        },
        "id": "4ErD1Z2J7BYU",
        "outputId": "1b6f04f4-95cd-4be7-a8c2-6ef743a9ec3b"
      },
      "outputs": [
        {
          "name": "stdout",
          "output_type": "stream",
          "text": [
            "valor do peso do  peixe : 60\n",
            "peso peixe 60.0 kg\n",
            "excesso 10.0 kg\n",
            "multa 40.0 R$\n"
          ]
        }
      ],
      "source": [
        "peso_peixe=float(input(\"valor do peso do  peixe : \"))\n",
        "peso_limite=50\n",
        "multa_por_kg=4\n",
        "\n",
        "if peso_peixe > peso_limite:\n",
        "  excesso = peso_peixe - peso_limite\n",
        "  multa = excesso * multa_por_kg\n",
        "\n",
        "\n",
        "else :\n",
        "  excesso=0\n",
        "  multa=0\n",
        "\n",
        "print(\"peso peixe\", peso_peixe, \"kg\")\n",
        "print(\"excesso\", excesso, \"kg\")\n",
        "print(\"multa\", multa, \"R$\")\n"
      ]
    },
    {
      "cell_type": "markdown",
      "metadata": {
        "id": "zhVflAFY5lmH"
      },
      "source": [
        "questão 15"
      ]
    },
    {
      "cell_type": "code",
      "execution_count": null,
      "metadata": {
        "colab": {
          "base_uri": "https://localhost:8080/"
        },
        "id": "y8nSDPxD5rAh",
        "outputId": "42a94839-2a26-4a82-f926-da29f7a956a3"
      },
      "outputs": [
        {
          "name": "stdout",
          "output_type": "stream",
          "text": [
            "valor das horas trabalhadas : 60\n",
            "horas trabalhadas no mês : 177\n",
            "+ Salário Bruto : R$ 10620.00\n",
            "- IR (11%)      : R$ 1168.20\n",
            "- INSS (8%)     : R$ 849.60\n",
            "- Sindicato (5%): R$ 531.00\n",
            "= Salário Líquido: R$ 8071.20\n"
          ]
        }
      ],
      "source": [
        "valor_hora=float(input(\"valor das horas trabalhadas : \"))\n",
        "hora_mês=float(input(\"horas trabalhadas no mês : \"))\n",
        "\n",
        "salario_bruto=valor_hora * hora_mês\n",
        "ir = salario_bruto * 0.11\n",
        "inss = salario_bruto * 0.08\n",
        "sindicato = salario_bruto * 0.05\n",
        "salario_liquido= salario_bruto - (ir + inss + sindicato)\n",
        "\n",
        "print(f\"+ Salário Bruto : R$ {salario_bruto:.2f}\")\n",
        "print(f\"- IR (11%)      : R$ {ir:.2f}\")\n",
        "print(f\"- INSS (8%)     : R$ {inss:.2f}\")\n",
        "print(f\"- Sindicato (5%): R$ {sindicato:.2f}\")\n",
        "print(f\"= Salário Líquido: R$ {salario_liquido:.2f}\")\n"
      ]
    },
    {
      "cell_type": "markdown",
      "metadata": {
        "id": "usjmNhrYAPun"
      },
      "source": [
        "questão 16"
      ]
    },
    {
      "cell_type": "code",
      "execution_count": null,
      "metadata": {
        "colab": {
          "base_uri": "https://localhost:8080/"
        },
        "id": "Dz8iC0lSATmQ",
        "outputId": "c9d36df7-f66c-401b-a768-f9b88db49d8e"
      },
      "outputs": [
        {
          "name": "stdout",
          "output_type": "stream",
          "text": [
            "valor da area12\n",
            "quantidade de latas : 1\n",
            "preço total : R$ 80.00\n"
          ]
        }
      ],
      "source": [
        "from ast import literal_eval\n",
        "import math\n",
        "area=float(input(\"valor da area\"))\n",
        "litros= area/3\n",
        "latas=math.ceil(litros/18)\n",
        "preço_total=latas*80\n",
        "print(f\"quantidade de latas : {latas}\")\n",
        "print(f\"preço total : R$ {preço_total:.2f}\")\n",
        "\n",
        "\n"
      ]
    },
    {
      "cell_type": "markdown",
      "metadata": {
        "id": "SU5M1Y0xFeMO"
      },
      "source": [
        "questão 17"
      ]
    },
    {
      "cell_type": "code",
      "execution_count": 7,
      "metadata": {
        "colab": {
          "base_uri": "https://localhost:8080/"
        },
        "id": "JTUkpK5qF6o9",
        "outputId": "ad59bce8-8bc6-4496-a8cf-182fa5296421"
      },
      "outputs": [
        {
          "name": "stdout",
          "output_type": "stream",
          "text": [
            "valor da area a ser pintado333\n",
            "\n",
            "Situação 1: Apenas latas de 18L\n",
            "Quantidade: 11 latas\n",
            "Preço total: R$ 880.00\n",
            "\n",
            "Situação 2: Apenas galões de 3,6L\n",
            "Quantidade: 51 galões\n",
            "Preço total: R$ 1275.00\n",
            "\n",
            "Situação 3: Mistura de latas e galões\n",
            "Quantidade: 10 latas e 2 galões\n",
            "Preço total: R$ 850.00\n"
          ]
        }
      ],
      "source": [
        "import math\n",
        "area= float(input(\"valor da area a ser pintado\"))\n",
        "area=area* 1.1\n",
        "litro = area/6\n",
        "lata= math.ceil(litros / 18)\n",
        "preco_latas=lata*80\n",
        "galoes=math.ceil(litros/3.6)\n",
        "preco_galoes=galoes*25\n",
        "lastas_mistura=int(litro//18)\n",
        "restante=litro - (lastas_mistura*18)\n",
        "galoes_mistura = math.ceil(restante / 3.6)\n",
        "preco_mistura = (latas_mistura * 80) + (galoes_mistura * 25)\n",
        "\n",
        "print(\"\\nSituação 1: Apenas latas de 18L\")\n",
        "print(f\"Quantidade: {lata} latas\")\n",
        "print(f\"Preço total: R$ {preco_latas:.2f}\")\n",
        "\n",
        "print(\"\\nSituação 2: Apenas galões de 3,6L\")\n",
        "print(f\"Quantidade: {galoes} galões\")\n",
        "print(f\"Preço total: R$ {preco_galoes:.2f}\")\n",
        "\n",
        "print(\"\\nSituação 3: Mistura de latas e galões\")\n",
        "print(f\"Quantidade: {latas_mistura} latas e {galoes_mistura} galões\")\n",
        "print(f\"Preço total: R$ {preco_mistura:.2f}\")\n"
      ]
    },
    {
      "cell_type": "markdown",
      "metadata": {
        "id": "VLfT5rX3Cfjx"
      },
      "source": [
        "questão 18"
      ]
    },
    {
      "cell_type": "code",
      "execution_count": 8,
      "metadata": {
        "colab": {
          "base_uri": "https://localhost:8080/"
        },
        "id": "noRjPCYbCeZ5",
        "outputId": "6616d2b3-ce29-4047-a653-bbe0cb25c4f9"
      },
      "outputs": [
        {
          "name": "stdout",
          "output_type": "stream",
          "text": [
            "tamanho do arquivo em mb : 600\n",
            "velocidade em mbps200\n",
            "tempo de download 0.40 minutos\n"
          ]
        }
      ],
      "source": [
        "tamanho_mb = float(input(\"tamanho do arquivo em mb : \"))\n",
        "tamanho_mbps = float(input(\"velocidade em mbps\"))\n",
        "tempo_segundo = (tamanho_mb * 8 ) / tamanho_mbps\n",
        "tempo_mnt = tempo_segundo / 60\n",
        "print(f\"tempo de download {tempo_mnt:.2f} minutos\")"
      ]
    },
    {
      "cell_type": "markdown",
      "metadata": {
        "id": "XilKoC0KE4av"
      },
      "source": [
        "questão 19"
      ]
    },
    {
      "cell_type": "code",
      "execution_count": 11,
      "metadata": {
        "colab": {
          "base_uri": "https://localhost:8080/"
        },
        "id": "hXLCijv1E6tk",
        "outputId": "4c195d27-8598-4486-a96c-dbce760ddd28"
      },
      "outputs": [
        {
          "name": "stdout",
          "output_type": "stream",
          "text": [
            "quantos numeros você deseja adc na lista : 6\n",
            "digite o 1ºnumero 1\n",
            "\n",
            "Lista preenchida: [1]\n",
            "\n",
            "digite um numero para colocar na lista : 2\n",
            "digite o 2ºnumero 3\n",
            "\n",
            "Lista preenchida: [1, 3]\n",
            "\n",
            "digite um numero para colocar na lista : 4\n",
            "digite o 3ºnumero 5\n",
            "\n",
            "Lista preenchida: [1, 3, 5]\n",
            "\n",
            "digite um numero para colocar na lista : 6\n",
            "digite o 4ºnumero 2\n",
            "\n",
            "Lista preenchida: [1, 3, 5, 2]\n",
            "\n",
            "digite um numero para colocar na lista : 4\n",
            "digite o 5ºnumero 6\n",
            "\n",
            "Lista preenchida: [1, 3, 5, 2, 6]\n",
            "\n",
            "digite um numero para colocar na lista : 4\n",
            "digite o 6ºnumero 4\n",
            "\n",
            "Lista preenchida: [1, 3, 5, 2, 6, 4]\n",
            "\n",
            "digite um numero para colocar na lista : 6\n",
            "o numero 6 foi encontrado na posição 4. \n",
            "o numero 6 não foi encontrado.\n"
          ]
        }
      ],
      "source": [
        "numeros=[]\n",
        "qtd=int(input(\"quantos numeros você deseja adc na lista : \"))\n",
        "for i in range(qtd):\n",
        "  n=int(input(f\"digite o {i+1}ºnumero \"))\n",
        "  numeros.append(n)\n",
        "  print(\"\\nLista preenchida:\", numeros)\n",
        "  pesquisa=int(input(\"\\ndigite um numero para colocar na lista : \"))\n",
        "\n",
        "  if pesquisa in numeros:\n",
        "    posicao=numeros.index(pesquisa)\n",
        "    print(f\"o numero {pesquisa} foi encontrado na posição {posicao}. \")\n",
        "else:\n",
        "  print(f\"o numero {pesquisa} não foi encontrado.\")\n"
      ]
    },
    {
      "cell_type": "markdown",
      "metadata": {
        "id": "P3QqkSWpM3x3"
      },
      "source": [
        "questão 20\n"
      ]
    },
    {
      "cell_type": "code",
      "execution_count": 15,
      "metadata": {
        "colab": {
          "base_uri": "https://localhost:8080/"
        },
        "id": "dwxFsJGEM7DX",
        "outputId": "5bc4fc0a-80ec-41b0-a2a7-d2191c03afcd"
      },
      "outputs": [
        {
          "name": "stdout",
          "output_type": "stream",
          "text": [
            "Prova com 20 questões. Digite apenas A, B, C, D ou E.\n",
            "Digite a resposta da questão 1: a\n",
            "Digite a resposta da questão 2: a\n",
            "Digite a resposta da questão 3: a\n",
            "Digite a resposta da questão 4: a\n",
            "Digite a resposta da questão 5: a\n",
            "Digite a resposta da questão 6: a\n",
            "Digite a resposta da questão 7: \n",
            "Resposta inválida! Digite A, B, C, D ou E.\n",
            "Digite a resposta da questão 7: \n",
            "Resposta inválida! Digite A, B, C, D ou E.\n",
            "Digite a resposta da questão 7: a\n",
            "Digite a resposta da questão 8: \n",
            "Resposta inválida! Digite A, B, C, D ou E.\n",
            "Digite a resposta da questão 8: a\n",
            "Digite a resposta da questão 9: a\n",
            "Digite a resposta da questão 10: a\n",
            "Digite a resposta da questão 11: \n",
            "Resposta inválida! Digite A, B, C, D ou E.\n",
            "Digite a resposta da questão 11: d\n",
            "Digite a resposta da questão 12: d\n",
            "Digite a resposta da questão 13: d\n",
            "Digite a resposta da questão 14: d\n",
            "Digite a resposta da questão 15: d\n",
            "Digite a resposta da questão 16: \n",
            "Resposta inválida! Digite A, B, C, D ou E.\n",
            "Digite a resposta da questão 16: \n",
            "Resposta inválida! Digite A, B, C, D ou E.\n",
            "Digite a resposta da questão 16: \n",
            "Resposta inválida! Digite A, B, C, D ou E.\n",
            "Digite a resposta da questão 16: d\n",
            "Digite a resposta da questão 17: \n",
            "Resposta inválida! Digite A, B, C, D ou E.\n",
            "Digite a resposta da questão 17: \n",
            "Resposta inválida! Digite A, B, C, D ou E.\n",
            "Digite a resposta da questão 17: \n",
            "Resposta inválida! Digite A, B, C, D ou E.\n",
            "Digite a resposta da questão 17: d\n",
            "Digite a resposta da questão 18: d\n",
            "Digite a resposta da questão 19: d\n",
            "Digite a resposta da questão 20: d\n",
            "\n",
            "O aluno acertou 4 questões.\n",
            "Desclassificado\n",
            "\n",
            "Deseja cadastrar outro aluno? (S/N): s\n",
            "Digite a resposta da questão 1: a\n",
            "Digite a resposta da questão 2: a\n",
            "Digite a resposta da questão 3: \n",
            "Resposta inválida! Digite A, B, C, D ou E.\n",
            "Digite a resposta da questão 3: \n",
            "Resposta inválida! Digite A, B, C, D ou E.\n",
            "Digite a resposta da questão 3: \n",
            "Resposta inválida! Digite A, B, C, D ou E.\n",
            "Digite a resposta da questão 3: \n",
            "Resposta inválida! Digite A, B, C, D ou E.\n",
            "Digite a resposta da questão 3: a\n",
            "Digite a resposta da questão 4: a\n",
            "Digite a resposta da questão 5: a\n",
            "Digite a resposta da questão 6: a\n",
            "Digite a resposta da questão 7: a\n",
            "Digite a resposta da questão 8: a\n",
            "Digite a resposta da questão 9: a\n",
            "Digite a resposta da questão 10: a\n",
            "Digite a resposta da questão 11: a\n",
            "Digite a resposta da questão 12: \n",
            "Resposta inválida! Digite A, B, C, D ou E.\n",
            "Digite a resposta da questão 12: \n",
            "Resposta inválida! Digite A, B, C, D ou E.\n",
            "Digite a resposta da questão 12: \n",
            "Resposta inválida! Digite A, B, C, D ou E.\n",
            "Digite a resposta da questão 12: a\n",
            "Digite a resposta da questão 13: a\n",
            "Digite a resposta da questão 14: aa\n",
            "Resposta inválida! Digite A, B, C, D ou E.\n",
            "Digite a resposta da questão 14: a\n",
            "Digite a resposta da questão 15: a\n",
            "Digite a resposta da questão 16: a\n",
            "Digite a resposta da questão 17: aa\n",
            "Resposta inválida! Digite A, B, C, D ou E.\n",
            "Digite a resposta da questão 17: aa\n",
            "Resposta inválida! Digite A, B, C, D ou E.\n",
            "Digite a resposta da questão 17: a\n",
            "Digite a resposta da questão 18: a\n",
            "Digite a resposta da questão 19: a\n",
            "Digite a resposta da questão 20: a\n",
            "\n",
            "O aluno acertou 4 questões.\n",
            "Desclassificado\n",
            "\n",
            "Deseja cadastrar outro aluno? (S/N): n\n",
            "Programa finalizado!\n"
          ]
        }
      ],
      "source": [
        "aaaaaaa\n",
        "aadddddddaaaaa\n",
        "\n",
        "\n",
        "a\n",
        "aaaa\n",
        "\n",
        "\n",
        "gabarito = (\n",
        "    \"A\", \"B\", \"C\", \"D\", \"E\",\n",
        "    \"A\", \"B\", \"C\", \"D\", \"E\",\n",
        "    \"A\", \"B\", \"C\", \"D\", \"E\",\n",
        "    \"A\", \"B\", \"C\", \"D\", \"E\"\n",
        ")\n",
        "\n",
        "print(\"Prova com 20 questões. Digite apenas A, B, C, D ou E.\")\n",
        "\n",
        "\n",
        "while True:\n",
        "    respostas_aluno = []\n",
        "\n",
        "    for i in range(20):\n",
        "        resposta = input(f\"Digite a resposta da questão {i+1}: \").upper().strip()\n",
        "        while resposta not in [\"A\", \"B\", \"C\", \"D\", \"E\"]:\n",
        "            print(\"Resposta inválida! Digite A, B, C, D ou E.\")\n",
        "            resposta = input(f\"Digite a resposta da questão {i+1}: \").upper().strip()\n",
        "        respostas_aluno.append(resposta)\n",
        "\n",
        "    acertos = 0\n",
        "    for i in range(20):\n",
        "        if respostas_aluno[i] == gabarito[i]:\n",
        "            acertos += 1\n",
        "\n",
        "    print(f\"\\nO aluno acertou {acertos} questões.\")\n",
        "\n",
        "\n",
        "    if acertos >= 12:\n",
        "        print(\"Classificado\")\n",
        "    else:\n",
        "        print(\"Desclassificado\")\n",
        "\n",
        "    continuar = input(\"\\nDeseja cadastrar outro aluno? (S/N): \").upper().strip()\n",
        "    if continuar != \"S\":\n",
        "        print(\"Programa finalizado!\")\n",
        "        break\n"
      ]
    },
    {
      "cell_type": "markdown",
      "metadata": {
        "id": "F1tjR_PBNSfZ"
      },
      "source": [
        "questão 21"
      ]
    },
    {
      "cell_type": "code",
      "execution_count": null,
      "metadata": {
        "id": "7x_21VbmNckc"
      },
      "outputs": [],
      "source": [
        "cidades = []\n",
        "\n",
        "\n",
        "def tem_duplicata(lista):\n",
        "    return len(lista) != len(set(lista))\n",
        "\n",
        "while len(cidades) < 6:\n",
        "    cidade = input(f\"Digite o nome da cidade {len(cidades)+1}: \").strip()\n",
        "\n",
        "\n",
        "    opcao = input(\"Deseja adicionar algo ao nome da cidade? (S/N): \").upper().strip()\n",
        "    if opcao == \"S\":\n",
        "        complemento = input(\"Digite o que deseja adicionar: \").strip()\n",
        "        cidade = cidade + \" \" + complemento\n",
        "    if cidade in cidades:\n",
        "        print(\"Essa cidade já foi inserida! Digite outra.\")\n",
        "    else:\n",
        "        cidades.append(cidade)\n",
        "\n",
        "print(\"\\nCidades cadastradas:\")\n",
        "for c in cidades:\n",
        "    print(c)\n",
        "\n",
        "cidade_mais_longa = max(cidades, key=len)\n",
        "print(f\"\\nA cidade com o nome mais extenso é: {cidade_mais_longa}\")\n"
      ]
    },
    {
      "cell_type": "markdown",
      "metadata": {
        "id": "LvnF6OVIP88d"
      },
      "source": [
        "questão 22"
      ]
    },
    {
      "cell_type": "code",
      "execution_count": null,
      "metadata": {
        "id": "-5VOUSOsQAZK"
      },
      "outputs": [],
      "source": [
        "\n",
        "letra = input(\"Digite uma letra: \").upper().strip()\n",
        "\n",
        "if letra in [\"A\", \"E\", \"I\", \"O\", \"U\"]:\n",
        "    print(\"Vogal\")\n",
        "else:\n",
        "    print(\"Consoante\")\n"
      ]
    },
    {
      "cell_type": "markdown",
      "metadata": {
        "id": "NLEZSFWPRgba"
      },
      "source": [
        "questão 23"
      ]
    },
    {
      "cell_type": "code",
      "execution_count": null,
      "metadata": {
        "id": "vU9_Gg-wRoMS"
      },
      "outputs": [],
      "source": [
        "nota1 = float(input(\"Digite a primeira nota: \"))\n",
        "nota2 = float(input(\"Digite a segunda nota: \"))\n",
        "\n",
        "media = (nota1 + nota2) / 2\n",
        "\n",
        "if media == 10:\n",
        "    print(\"Aprovado com Distinção\")\n",
        "elif media >= 7:\n",
        "    print(\"Aprovado\")\n",
        "else:\n",
        "    print(\"Reprovado\")\n"
      ]
    },
    {
      "cell_type": "markdown",
      "metadata": {
        "id": "D3R7CYXPRuY0"
      },
      "source": [
        "questão 24"
      ]
    },
    {
      "cell_type": "code",
      "execution_count": null,
      "metadata": {
        "id": "jykt87SsRxeX"
      },
      "outputs": [],
      "source": [
        "palavra1 = input(\"Digite a primeira palavra: \")\n",
        "palavra2 = input(\"Digite a segunda palavra: \")\n",
        "palavra3 = input(\"Digite a terceira palavra: \")\n",
        "\n",
        "palavras = [palavra1, palavra2, palavra3]\n",
        "\n",
        "\n",
        "maior = max(palavras, key=len)\n",
        "\n",
        "print(f\"A maior palavra é '{maior}' e tem {len(maior)} caracteres.\")\n",
        "\n"
      ]
    },
    {
      "cell_type": "markdown",
      "metadata": {
        "id": "sVKYPDjxR9w-"
      },
      "source": [
        "questão 25"
      ]
    },
    {
      "cell_type": "code",
      "execution_count": null,
      "metadata": {
        "id": "W2Z7umocR_l5"
      },
      "outputs": [],
      "source": [
        "num1 = float(input(\"Digite o primeiro número: \"))\n",
        "num2 = float(input(\"Digite o segundo número: \"))\n",
        "num3 = float(input(\"Digite o terceiro número: \"))\n",
        "\n",
        "maior = max(num1, num2, num3)\n",
        "menor = min(num1, num2, num3)\n",
        "\n",
        "print(f\"O maior número é {maior}\")\n",
        "print(f\"O menor número é {menor}\")\n"
      ]
    },
    {
      "cell_type": "markdown",
      "metadata": {
        "id": "5pjCpySdSGLs"
      },
      "source": [
        "questão 26"
      ]
    },
    {
      "cell_type": "code",
      "execution_count": null,
      "metadata": {
        "id": "UWdS84vSSLej"
      },
      "outputs": [],
      "source": [
        "preco1 = float(input(\"Digite o preço do primeiro produto: \"))\n",
        "preco2 = float(input(\"Digite o preço do segundo produto: \"))\n",
        "preco3 = float(input(\"Digite o preço do terceiro produto: \"))\n",
        "\n",
        "mais_barato = min(preco1, preco2, preco3)\n",
        "\n",
        "print(f\"O produto mais barato custa R$ {mais_barato:.2f}\")\n"
      ]
    },
    {
      "cell_type": "markdown",
      "metadata": {
        "id": "z-D83RxHSNGa"
      },
      "source": [
        "questão 27"
      ]
    },
    {
      "cell_type": "code",
      "execution_count": null,
      "metadata": {
        "id": "hccB72ZoSR8A"
      },
      "outputs": [],
      "source": [
        "num1 = float(input(\"Digite o primeiro número: \"))\n",
        "num2 = float(input(\"Digite o segundo número: \"))\n",
        "num3 = float(input(\"Digite o terceiro número: \"))\n",
        "\n",
        "numeros = [num1, num2, num3]\n",
        "numeros.sort(reverse=True)\n",
        "\n",
        "print(\"Números em ordem decrescente:\", numeros)\n"
      ]
    },
    {
      "cell_type": "markdown",
      "metadata": {
        "id": "UsHDp81-SWaG"
      },
      "source": [
        "questão 28"
      ]
    },
    {
      "cell_type": "code",
      "execution_count": null,
      "metadata": {
        "id": "3JJjaw0KSYZI"
      },
      "outputs": [],
      "source": [
        "turno = input(\"Digite seu turno (M-matutino, V-vespertino, N-noturno): \").upper().strip()\n",
        "\n",
        "if turno == \"M\":\n",
        "    print(\"Bom Dia!\")\n",
        "elif turno == \"V\":\n",
        "    print(\"Boa Tarde!\")\n",
        "elif turno == \"N\":\n",
        "    print(\"Boa Noite!\")\n",
        "else:\n",
        "    print(\"Valor Inválido!\")\n"
      ]
    },
    {
      "cell_type": "markdown",
      "metadata": {
        "id": "5Eint9LdScLQ"
      },
      "source": [
        "questão 29"
      ]
    },
    {
      "cell_type": "code",
      "execution_count": null,
      "metadata": {
        "id": "EZpWZQkISeJD"
      },
      "outputs": [],
      "source": [
        "salario = float(input(\"Digite o salário atual: \"))\n",
        "\n",
        "if salario <= 280:\n",
        "    percentual = 20\n",
        "elif salario <= 700:\n",
        "    percentual = 15\n",
        "elif salario <= 1500:\n",
        "    percentual = 10\n",
        "else:\n",
        "    percentual = 5\n",
        "\n",
        "valor_aumento = salario * (percentual / 100)\n",
        "novo_salario = salario + valor_aumento\n",
        "\n",
        "print(f\"Salário antes do reajuste: R$ {salario:.2f}\")\n",
        "print(f\"Percentual aplicado: {percentual}%\")\n",
        "print(f\"Valor do aumento: R$ {valor_aumento:.2f}\")\n",
        "print(f\"Novo salário: R$ {novo_salario:.2f}\")\n"
      ]
    },
    {
      "cell_type": "markdown",
      "metadata": {
        "id": "rdLe8hPwSiyc"
      },
      "source": [
        "questão 30"
      ]
    },
    {
      "cell_type": "code",
      "execution_count": null,
      "metadata": {
        "id": "hpzYZrN4SkmC"
      },
      "outputs": [],
      "source": [
        "valor_hora = float(input(\"Digite o valor da hora: \"))\n",
        "horas = float(input(\"Digite a quantidade de horas trabalhadas: \"))\n",
        "\n",
        "salario_bruto = valor_hora * horas\n",
        "\n",
        "if salario_bruto <= 900:\n",
        "    ir = 0\n",
        "elif salario_bruto <= 1500:\n",
        "    ir = salario_bruto * 0.05\n",
        "elif salario_bruto <= 2500:\n",
        "    ir = salario_bruto * 0.10\n",
        "else:\n",
        "    ir = salario_bruto * 0.20\n",
        "\n",
        "inss = salario_bruto * 0.03\n",
        "fgts = salario_bruto * 0.11\n",
        "\n",
        "total_descontos = ir + inss\n",
        "salario_liquido = salario_bruto - total_descontos\n",
        "\n",
        "print(f\"Salário Bruto: R$ {salario_bruto:.2f}\")\n",
        "print(f\"(-) IR: R$ {ir:.2f}\")\n",
        "print(f\"(-) INSS: R$ {inss:.2f}\")\n",
        "print(f\"FGTS: R$ {fgts:.2f}\")\n",
        "print(f\"Total de descontos: R$ {total_descontos:.2f}\")\n",
        "print(f\"Salário Líquido: R$ {salario_liquido:.2f}\")\n"
      ]
    },
    {
      "cell_type": "markdown",
      "metadata": {
        "id": "_XDKWMCYStOQ"
      },
      "source": [
        "questão 31"
      ]
    },
    {
      "cell_type": "code",
      "execution_count": 14,
      "metadata": {
        "colab": {
          "base_uri": "https://localhost:8080/"
        },
        "id": "k29NoY_3S_2R",
        "outputId": "c594ff8d-91c5-47b9-fc8c-3eeafabc219f"
      },
      "outputs": [
        {
          "name": "stdout",
          "output_type": "stream",
          "text": [
            "Telefonou para a vítima? (S/N) s\n",
            "Esteve no local do crime? (S/N) s\n",
            "Mora perto da vítima? (S/N) s\n",
            "Devia para a vítima? (S/N) s\n",
            "Já trabalhou com a vítima? (S/N) s\n",
            "Assassino\n"
          ]
        }
      ],
      "source": [
        "respostas_sim = 0\n",
        "\n",
        "perguntas = [\n",
        "    \"Telefonou para a vítima? (S/N) \",\n",
        "    \"Esteve no local do crime? (S/N) \",\n",
        "    \"Mora perto da vítima? (S/N) \",\n",
        "    \"Devia para a vítima? (S/N) \",\n",
        "    \"Já trabalhou com a vítima? (S/N) \"\n",
        "]\n",
        "for p in perguntas:\n",
        "    resposta = input(p).upper().strip()\n",
        "    if resposta == \"S\":\n",
        "        respostas_sim += 1\n",
        "if respostas_sim == 2:\n",
        "    print(\"Suspeita\")\n",
        "elif respostas_sim == 3 or respostas_sim == 4:\n",
        "    print(\"Cúmplice\")\n",
        "elif respostas_sim == 5:\n",
        "    print(\"Assassino\")\n",
        "else:\n",
        "    print(\"Inocente\")\n"
      ]
    }
  ],
  "metadata": {
    "colab": {
      "authorship_tag": "ABX9TyOqpahGEbfG/4H/B31zAH7w",
      "include_colab_link": true,
      "provenance": []
    },
    "kernelspec": {
      "display_name": "Python 3",
      "name": "python3"
    },
    "language_info": {
      "name": "python"
    }
  },
  "nbformat": 4,
  "nbformat_minor": 0
}
